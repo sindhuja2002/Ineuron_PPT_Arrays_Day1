{
  "nbformat": 4,
  "nbformat_minor": 0,
  "metadata": {
    "colab": {
      "provenance": []
    },
    "kernelspec": {
      "name": "python3",
      "display_name": "Python 3"
    },
    "language_info": {
      "name": "python"
    },
    "accelerator": "TPU"
  },
  "cells": [
    {
      "cell_type": "code",
      "execution_count": null,
      "metadata": {
        "colab": {
          "base_uri": "https://localhost:8080/"
        },
        "id": "aFgezR4fdlhs",
        "outputId": "1d7c789b-de0e-45f1-dc8a-b314e8f9d87b"
      },
      "outputs": [
        {
          "output_type": "stream",
          "name": "stdout",
          "text": [
            "[0, 1]\n"
          ]
        }
      ],
      "source": [
        "#question 1\n",
        "def twoSum(nums, target):\n",
        "    for i in range(len(nums)):\n",
        "        for j in range(i + 1, len(nums)):\n",
        "            if nums[i] + nums[j] == target:\n",
        "                return [i, j]\n",
        "\n",
        "# Example usage\n",
        "nums = [2, 7, 11, 15]\n",
        "target = 9\n",
        "result = twoSum(nums, target)\n",
        "print(result)\n",
        "\n",
        "#TC - O(N^2)  AS 2 FOR LOOPS\n",
        "#SC - 0(1)    AS NO EXTRA SPACES REQUIRED\n"
      ]
    },
    {
      "cell_type": "code",
      "source": [
        "#question 1\n",
        "#idea2\n",
        "#2+7=9\n",
        "#9-2=7\n",
        "#9-7=2\n",
        "\n",
        "def twoSum(nums, target):\n",
        "    num_indices = {}#dict is used to store num,num's index\n",
        "    \n",
        "    for i, num in enumerate(nums):\n",
        "        print(num_indices)\n",
        "        print()\n",
        "        res = target - num                                                       #res=9-2=7,                                                                            #9-7=2\n",
        "        print(f\"res {res} = target {target} - num {num}\")\n",
        "        if res in num_indices:                                                                                                                                          #2 in dic\n",
        "            print(f\"since res:{res} in dict return res_index,num_index{[num_indices[res], i]}\")\n",
        "            print() \n",
        "                                                                                                                                                                        #index[2] , 1 = 0 , 1\n",
        "            return [num_indices[res], i]  \n",
        "        print(f\"since res {res} not in dict add input num and its index in dict\")                                        \n",
        "        num_indices[num] = i                                                    # 7 not in dic so add num,index---> index[2]=0 in dic which is equal to {2 : 0}\n",
        "    return []\n",
        "\n",
        "# Example usage\n",
        "nums = [2, 7, 11, 15]\n",
        "target = 9\n",
        "result = twoSum(nums, target)\n",
        "print(f\"The index of two numbers which gives 9 is : {result}\")\n",
        "\n",
        "#TC - O(N)    AS 1 FOR LOOP\n",
        "#SC - 0(1)    AS NO EXTRA SPACES REQUIRED"
      ],
      "metadata": {
        "colab": {
          "base_uri": "https://localhost:8080/"
        },
        "id": "oBg-3Pq3eCy1",
        "outputId": "01826c39-274d-4169-8c6f-7f8d11567208"
      },
      "execution_count": null,
      "outputs": [
        {
          "output_type": "stream",
          "name": "stdout",
          "text": [
            "{}\n",
            "\n",
            "res 7 = target 9 - num 2\n",
            "since res 7 not in dict add input num and its index in dict\n",
            "{2: 0}\n",
            "\n",
            "res 2 = target 9 - num 7\n",
            "since res:2 in dict return res_index,num_index[0, 1]\n",
            "\n",
            "The index of two numbers which gives 9 is : [0, 1]\n"
          ]
        }
      ]
    },
    {
      "cell_type": "code",
      "source": [
        "nums = [5, 7, 4, 15]\n",
        "target = 9\n",
        "result = twoSum(nums, target)\n",
        "print(result)"
      ],
      "metadata": {
        "colab": {
          "base_uri": "https://localhost:8080/"
        },
        "id": "S2e57gWLjy7W",
        "outputId": "1c436c6b-e982-4883-982e-806a384cda52"
      },
      "execution_count": null,
      "outputs": [
        {
          "output_type": "stream",
          "name": "stdout",
          "text": [
            "{}\n",
            "\n",
            "res 4 = target 9 - num 5\n",
            "since res 4 not in dict add input num and its index in dict\n",
            "{5: 0}\n",
            "\n",
            "res 2 = target 9 - num 7\n",
            "since res 2 not in dict add input num and its index in dict\n",
            "{5: 0, 7: 1}\n",
            "\n",
            "res 5 = target 9 - num 4\n",
            "since res:5 in dict return res_index,num_index[0, 2]\n",
            "\n",
            "[0, 2]\n"
          ]
        }
      ]
    },
    {
      "cell_type": "code",
      "source": [
        "#question 2\n",
        "def removeElement(nums, val):\n",
        "    k = 0  #index to assign the new order\n",
        "\n",
        "    for i in range(len(nums)):\n",
        "        if nums[i] != val:\n",
        "            nums[k] = nums[i]\n",
        "            k += 1\n",
        "            \n",
        "           \n",
        "    \n",
        "    # Create a new array with the resulting output representation\n",
        "    output = nums[:k] + [\"_\"] * (len(nums) - k)\n",
        "    \n",
        "    return output\n",
        "nums = [3,2,2,3]\n",
        "val = 3\n",
        "print(\"ans:\",removeElement(nums,val))"
      ],
      "metadata": {
        "id": "0yZ7uRpaItny",
        "colab": {
          "base_uri": "https://localhost:8080/"
        },
        "outputId": "b6c3c4d8-665d-45cc-d07d-d6ec1b3e733f"
      },
      "execution_count": null,
      "outputs": [
        {
          "output_type": "stream",
          "name": "stdout",
          "text": [
            "ans: [2, 2, '_', '_']\n"
          ]
        }
      ]
    },
    {
      "cell_type": "code",
      "source": [
        "#question 3\n",
        "nums = [1,3,5,6]\n",
        "target = 5\n",
        "for i in range(0,len(nums)):\n",
        "  if nums[i]==target:\n",
        "    print(i)\n",
        "\n",
        "#Time Complexity for this is o(n) but we need o(logn) hint: sorted array mentioned in question so use binary search method\n",
        "#SC - O(1)"
      ],
      "metadata": {
        "id": "tHEST8SAJL44",
        "colab": {
          "base_uri": "https://localhost:8080/"
        },
        "outputId": "5e95d7b1-6b50-4af2-f1a9-5c198c6f1bcd"
      },
      "execution_count": null,
      "outputs": [
        {
          "output_type": "stream",
          "name": "stdout",
          "text": [
            "2\n"
          ]
        }
      ]
    },
    {
      "cell_type": "code",
      "source": [
        "#question 3\n",
        "#idea2\n",
        "def sort(nums, target):\n",
        "    l = 0\n",
        "    h = len(nums) - 1\n",
        "\n",
        "    while l < h:\n",
        "        mid = (l + h) // 2\n",
        "\n",
        "        if nums[mid] == target:\n",
        "            return mid\n",
        "        elif nums[mid] < target:\n",
        "            l = mid + 1\n",
        "        else:\n",
        "            h = mid - 1\n",
        "\n",
        "    return l    #when the loop exits without finding the target, l represents the index where the target should be inserted to maintain the sorted order\n",
        "nums = [1,3,5,6]\n",
        "target = 5\n",
        "print(sort(nums,target))\n",
        "\n",
        "#TC - O(logn)\n",
        "#SC - O(1)"
      ],
      "metadata": {
        "colab": {
          "base_uri": "https://localhost:8080/"
        },
        "id": "aAuAsY36mCgo",
        "outputId": "7f4afb7f-f88a-4b41-9e46-a8c1b83e96e6"
      },
      "execution_count": null,
      "outputs": [
        {
          "output_type": "stream",
          "name": "stdout",
          "text": [
            "2\n"
          ]
        }
      ]
    },
    {
      "cell_type": "code",
      "source": [
        "#question 4\n",
        "def plusOne(digits):\n",
        "    carry = 1\n",
        "    n = len(digits)\n",
        "\n",
        "    for i in range(n - 1, 0, -1):                                     #i=2                     i=1                i=0\n",
        "        digits[i] += carry                                            # 9+1=10                 9+1=10             9+1= 10\n",
        "        if digits[i] < 10:                                            #this condition fails for all 3 iteration\n",
        "            carry = 0\n",
        "            break\n",
        "        else:                               #for [9,9,9] case\n",
        "            digits[i] = 0\n",
        "\n",
        "    if carry == 1:                                                                                                               #now this conditon works and returns[1,0,0,0]\n",
        "        digits.insert(0, carry)\n",
        "\n",
        "    return digits\n",
        "digits = [1,2,3]\n",
        "print(plusOne(digits))\n",
        "\n",
        "\n",
        "#TC - O(n)\n",
        "#SC - O(1)"
      ],
      "metadata": {
        "colab": {
          "base_uri": "https://localhost:8080/"
        },
        "id": "12CPdcHDEx1C",
        "outputId": "5d069234-32e3-4520-e5b2-ac69b78f24be"
      },
      "execution_count": null,
      "outputs": [
        {
          "output_type": "stream",
          "name": "stdout",
          "text": [
            "[1, 2, 4]\n"
          ]
        }
      ]
    },
    {
      "cell_type": "code",
      "source": [
        "#question 5\n",
        "def merge(nums1, m, nums2, n):\n",
        "    p1 = m - 1\n",
        "    p2 = n - 1\n",
        "    p = m + n - 1\n",
        "\n",
        "    while p1 >= 0 and p2 >= 0:\n",
        "        if nums1[p1] >= nums2[p2]:\n",
        "            nums1[p] = nums1[p1]\n",
        "            p1 -= 1\n",
        "        else:\n",
        "            nums1[p] = nums2[p2]\n",
        "            p2 -= 1\n",
        "        p -= 1\n",
        "\n",
        "    while p1 >= 0:               #p2 attained index 0 but p1 doesnot and curr pos of p1=2\n",
        "        nums1[p] = nums1[p1]\n",
        "        p1 -= 1\n",
        "        p -= 1\n",
        "\n",
        "    return nums1\n",
        "nums1 = [1, 2, 3, 0, 0, 0]\n",
        "m = 3\n",
        "nums2 = [2, 5, 6]\n",
        "n = 3\n",
        "result = merge(nums1, m, nums2, n)\n",
        "print(result)\n",
        "\n",
        "#TC - O(M+N)\n",
        "#SC - O(1)"
      ],
      "metadata": {
        "colab": {
          "base_uri": "https://localhost:8080/"
        },
        "id": "oI1RFjUfGDqP",
        "outputId": "380c2ac6-570f-4bee-85d4-8a7735169d1f"
      },
      "execution_count": null,
      "outputs": [
        {
          "output_type": "stream",
          "name": "stdout",
          "text": [
            "[1, 2, 2, 3, 5, 6]\n"
          ]
        }
      ]
    },
    {
      "cell_type": "code",
      "source": [
        "#question 6\n",
        "def contains_duplicate(nums):\n",
        "    # Sort the array in non-decreasing order\n",
        "    nums.sort()\n",
        "    \n",
        "    # Check for adjacent elements that are equal\n",
        "    for i in range(len(nums) - 1):\n",
        "        if nums[i] == nums[i + 1]:\n",
        "            return True\n",
        "    \n",
        "    return False\n",
        "\n",
        "nums = [1, 2, 3, 1]\n",
        "print(contains_duplicate(nums))\n",
        "\n",
        "#TC - O(nlogn)\n",
        "#SC - O(1)\n"
      ],
      "metadata": {
        "colab": {
          "base_uri": "https://localhost:8080/"
        },
        "id": "Ls1mexIyfV6r",
        "outputId": "e13ea8ea-5da2-4c2d-bcc0-81ba5506719c"
      },
      "execution_count": null,
      "outputs": [
        {
          "output_type": "stream",
          "name": "stdout",
          "text": [
            "True\n"
          ]
        }
      ]
    },
    {
      "cell_type": "code",
      "source": [
        "#question 6\n",
        "#idea2\n",
        "def contains_duplicate(nums):\n",
        "    a = list()\n",
        "    for i in nums:\n",
        "        if i in a:\n",
        "            return True\n",
        "        a.append(i)\n",
        "    return False\n",
        "\n",
        "nums = [1, 2, 3, 1]\n",
        "print(contains_duplicate(nums))\n",
        "\n",
        "#TC - O(n^2)\n",
        "#SC - O(n)\n"
      ],
      "metadata": {
        "colab": {
          "base_uri": "https://localhost:8080/"
        },
        "id": "VcVTXqH5huxa",
        "outputId": "7a65fbc9-daa7-4d85-eae5-e0ccb8343b72"
      },
      "execution_count": null,
      "outputs": [
        {
          "output_type": "stream",
          "name": "stdout",
          "text": [
            "True\n"
          ]
        }
      ]
    },
    {
      "cell_type": "code",
      "source": [
        "#question 7\n",
        "def move_zeros(nums):\n",
        "    count = 0  # Variable to track the number of zeros encountered\n",
        "\n",
        "    # Iterate through the array and move non-zero elements towards the front\n",
        "    for i in range(len(nums)):\n",
        "        if nums[i] != 0:\n",
        "            nums[count] = nums[i]\n",
        "            count += 1\n",
        "\n",
        "    # Fill the remaining positions from count to the end with zeros\n",
        "    print(count)\n",
        "    while count < len(nums):\n",
        "        nums[count] = 0\n",
        "        count += 1\n",
        "\n",
        "# Test case\n",
        "nums = [0, 1, 0, 3, 12]\n",
        "move_zeros(nums)\n",
        "print(nums)  # Output: [1, 3, 12, 0, 0]\n",
        "\n",
        "\n",
        "#TC - O(n)\n",
        "#SC - O(1)\n"
      ],
      "metadata": {
        "colab": {
          "base_uri": "https://localhost:8080/"
        },
        "id": "Blf5Jjw4iiJx",
        "outputId": "1087334d-6cad-4429-b24d-c68905f990d5"
      },
      "execution_count": null,
      "outputs": [
        {
          "output_type": "stream",
          "name": "stdout",
          "text": [
            "3\n",
            "[1, 3, 12, 0, 0]\n"
          ]
        }
      ]
    },
    {
      "cell_type": "code",
      "source": [
        "#question 8\n",
        "def findErrorNums(nums):\n",
        "    seen = set()\n",
        "    duplicate = -1\n",
        "    missing = -1\n",
        "\n",
        "    for num in nums:\n",
        "        if num in seen:\n",
        "            duplicate = num\n",
        "        seen.add(num)\n",
        "\n",
        "    n = len(nums)\n",
        "    expected_sum = (n * (n + 1)) // 2\n",
        "    actual_sum = __builtins__.sum(seen)  # Use __builtins__.sum() instead of sum\n",
        "    missing = expected_sum - actual_sum\n",
        "\n",
        "    return [duplicate, missing]\n",
        "\n",
        "# Test case\n",
        "nums = [1, 2, 2, 2,5]\n",
        "result = findErrorNums(nums)\n",
        "print(result)  # Output: [2, 3, 4] ---[2,7] where 3+4=7 ie adding up the missing elelments\n",
        "\n",
        "#TC - O(n)\n",
        "#SC - O(n)\n"
      ],
      "metadata": {
        "colab": {
          "base_uri": "https://localhost:8080/"
        },
        "id": "JKTyZjnjjyzQ",
        "outputId": "364f6d0c-11e4-4c9e-eee3-232a89899b49"
      },
      "execution_count": 1,
      "outputs": [
        {
          "output_type": "stream",
          "name": "stdout",
          "text": [
            "[2, 7]\n"
          ]
        }
      ]
    },
    {
      "cell_type": "code",
      "source": [
        "#question 8\n",
        "#idea2\n",
        "def findDuplicateAndMissing(nums):\n",
        "    n = len(nums)\n",
        "    nums_set = set()\n",
        "    duplicate = -1\n",
        "    missing_nums = []\n",
        "\n",
        "    for num in nums:                    #O(n)\n",
        "        if num in nums_set:\n",
        "            duplicate = num\n",
        "        nums_set.add(num)\n",
        "\n",
        "    for num in range(1, n + 1):         #O(1)\n",
        "        if num not in nums_set:\n",
        "            missing_nums.append(num)\n",
        "\n",
        "    return [duplicate] + missing_nums\n",
        "\n",
        "# Test case\n",
        "nums = [1, 2, 2, 2, 5]\n",
        "result = findDuplicateAndMissing(nums)\n",
        "print(result)  # Output: [2, 3, 4] without adding the missing elements\n",
        "\n",
        "#TC - O(n)\n",
        "#SC - O(n)\n"
      ],
      "metadata": {
        "colab": {
          "base_uri": "https://localhost:8080/"
        },
        "id": "R1-33zW7nIyo",
        "outputId": "5c0845de-c9b2-4037-f76f-c1ede08cf148"
      },
      "execution_count": 2,
      "outputs": [
        {
          "output_type": "stream",
          "name": "stdout",
          "text": [
            "[2, 3, 4]\n"
          ]
        }
      ]
    },
    {
      "cell_type": "code",
      "source": [],
      "metadata": {
        "id": "SNBxOlKyPUCb"
      },
      "execution_count": null,
      "outputs": []
    }
  ]
}